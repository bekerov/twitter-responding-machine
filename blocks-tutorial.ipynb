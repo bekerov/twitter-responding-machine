{
 "cells": [
  {
   "cell_type": "code",
   "execution_count": 1,
   "metadata": {
    "collapsed": true
   },
   "outputs": [],
   "source": [
    "from theano import tensor\n",
    "x = tensor.matrix('features')"
   ]
  },
  {
   "cell_type": "code",
   "execution_count": 2,
   "metadata": {
    "collapsed": true
   },
   "outputs": [],
   "source": [
    "from blocks.bricks import Linear, Rectifier, Softmax\n",
    "input_to_hidden = Linear(name='input_to_hidden', input_dim=784, output_dim=100)\n",
    "h = Rectifier().apply(input_to_hidden.apply(x))\n",
    "hidden_to_output = Linear(name='hidden_to_output', input_dim=100, output_dim=10)\n",
    "y_hat = Softmax().apply(hidden_to_output.apply(h))"
   ]
  },
  {
   "cell_type": "code",
   "execution_count": 3,
   "metadata": {
    "collapsed": true
   },
   "outputs": [],
   "source": [
    "y = tensor.lmatrix('targets')\n",
    "from blocks.bricks.cost import CategoricalCrossEntropy\n",
    "cost = CategoricalCrossEntropy().apply(y.flatten(), y_hat)"
   ]
  },
  {
   "cell_type": "code",
   "execution_count": 4,
   "metadata": {
    "collapsed": true
   },
   "outputs": [],
   "source": [
    "from blocks.bricks import WEIGHT\n",
    "from blocks.graph import ComputationGraph\n",
    "from blocks.filter import VariableFilter\n",
    "cg = ComputationGraph(cost)\n",
    "W1, W2 = VariableFilter(roles=[WEIGHT])(cg.variables)\n",
    "cost = cost + 0.005 * (W1 ** 2).sum() + 0.005 * (W2 ** 2).sum()\n",
    "cost.name = 'cost_with_regularization'"
   ]
  },
  {
   "cell_type": "code",
   "execution_count": 5,
   "metadata": {
    "collapsed": true
   },
   "outputs": [],
   "source": [
    "from blocks.bricks import MLP\n",
    "mlp = MLP(activations=[Rectifier(), Softmax()], dims=[784, 100, 10]).apply(x)"
   ]
  },
  {
   "cell_type": "code",
   "execution_count": 6,
   "metadata": {
    "collapsed": true
   },
   "outputs": [],
   "source": [
    "from blocks.initialization import IsotropicGaussian, Constant\n",
    "input_to_hidden.weights_init = hidden_to_output.weights_init = IsotropicGaussian(0.01)\n",
    "input_to_hidden.biases_init = hidden_to_output.biases_init = Constant(0)\n",
    "input_to_hidden.initialize()\n",
    "hidden_to_output.initialize()"
   ]
  },
  {
   "cell_type": "code",
   "execution_count": 7,
   "metadata": {
    "collapsed": false
   },
   "outputs": [
    {
     "data": {
      "text/plain": [
       "array([[ 0.00764556, -0.01124291, -0.00137316, ...,  0.00715281,\n",
       "        -0.00843766,  0.00726915],\n",
       "       [-0.00300742, -0.00752019,  0.00470734, ...,  0.01553072,\n",
       "         0.00510337, -0.00332438],\n",
       "       [-0.00816994, -0.00480912, -0.00021066, ..., -0.01991693,\n",
       "        -0.00769432, -0.00765804],\n",
       "       ..., \n",
       "       [ 0.00511479,  0.00822329, -0.02027499, ..., -0.01535202,\n",
       "        -0.00611927,  0.00228889],\n",
       "       [ 0.00611224,  0.01116154,  0.00436344, ...,  0.00152842,\n",
       "         0.00196134,  0.00373074],\n",
       "       [ 0.01813583,  0.00565259,  0.00071371, ...,  0.00566098,\n",
       "        -0.01152798,  0.01192834]])"
      ]
     },
     "execution_count": 7,
     "metadata": {},
     "output_type": "execute_result"
    }
   ],
   "source": [
    "W1.get_value()"
   ]
  },
  {
   "cell_type": "code",
   "execution_count": 8,
   "metadata": {
    "collapsed": true
   },
   "outputs": [],
   "source": [
    "from fuel.datasets import MNIST\n",
    "mnist = MNIST((\"train\",))"
   ]
  },
  {
   "cell_type": "code",
   "execution_count": 9,
   "metadata": {
    "collapsed": true
   },
   "outputs": [],
   "source": [
    "from fuel.streams import DataStream\n",
    "from fuel.schemes import SequentialScheme\n",
    "from fuel.transformers import Flatten\n",
    "data_stream = Flatten(DataStream.default_stream(\n",
    "        mnist,\n",
    "        iteration_scheme=SequentialScheme(mnist.num_examples, batch_size=256)))"
   ]
  },
  {
   "cell_type": "code",
   "execution_count": 10,
   "metadata": {
    "collapsed": true
   },
   "outputs": [],
   "source": [
    "from blocks.algorithms import GradientDescent, Scale\n",
    "algorithm = GradientDescent(cost=cost, parameters=cg.parameters,\n",
    "                            step_rule=Scale(learning_rate=0.1))"
   ]
  },
  {
   "cell_type": "code",
   "execution_count": 11,
   "metadata": {
    "collapsed": true
   },
   "outputs": [],
   "source": [
    "mnist_test = MNIST((\"test\",))\n",
    "data_stream_test = Flatten(DataStream.default_stream(\n",
    "        mnist_test,\n",
    "        iteration_scheme=SequentialScheme(\n",
    "            mnist_test.num_examples, batch_size=1024)))"
   ]
  },
  {
   "cell_type": "code",
   "execution_count": 12,
   "metadata": {
    "collapsed": true
   },
   "outputs": [],
   "source": [
    "from blocks.extensions.monitoring import DataStreamMonitoring\n",
    "monitor = DataStreamMonitoring(\n",
    "    variables=[cost], data_stream=data_stream_test, prefix=\"test\")"
   ]
  },
  {
   "cell_type": "code",
   "execution_count": 13,
   "metadata": {
    "collapsed": false
   },
   "outputs": [
    {
     "name": "stdout",
     "output_type": "stream",
     "text": [
      "\n",
      "-------------------------------------------------------------------------------\n",
      "BEFORE FIRST EPOCH\n",
      "-------------------------------------------------------------------------------\n",
      "Training status:\n",
      "\t batch_interrupt_received: False\n",
      "\t epoch_interrupt_received: False\n",
      "\t epoch_started: True\n",
      "\t epochs_done: 0\n",
      "\t iterations_done: 0\n",
      "\t received_first_batch: False\n",
      "\t resumed_from: None\n",
      "\t training_started: True\n",
      "Log records from the iteration 0:\n",
      "\t test_cost_with_regularization: 2.34190669218\n",
      "\n",
      "\n",
      "-------------------------------------------------------------------------------\n",
      "AFTER ANOTHER EPOCH\n",
      "-------------------------------------------------------------------------------\n",
      "Training status:\n",
      "\t batch_interrupt_received: False\n",
      "\t epoch_interrupt_received: False\n",
      "\t epoch_started: False\n",
      "\t epochs_done: 1\n",
      "\t iterations_done: 235\n",
      "\t received_first_batch: True\n",
      "\t resumed_from: None\n",
      "\t training_started: True\n",
      "Log records from the iteration 235:\n",
      "\t test_cost_with_regularization: 0.657896590087\n",
      "\t training_finish_requested: True\n",
      "\n",
      "\n",
      "-------------------------------------------------------------------------------\n",
      "TRAINING HAS BEEN FINISHED:\n",
      "-------------------------------------------------------------------------------\n",
      "Training status:\n",
      "\t batch_interrupt_received: False\n",
      "\t epoch_interrupt_received: False\n",
      "\t epoch_started: False\n",
      "\t epochs_done: 1\n",
      "\t iterations_done: 235\n",
      "\t received_first_batch: True\n",
      "\t resumed_from: None\n",
      "\t training_started: True\n",
      "Log records from the iteration 235:\n",
      "\t test_cost_with_regularization: 0.657896590087\n",
      "\t training_finish_requested: True\n",
      "\t training_finished: True\n",
      "\n"
     ]
    }
   ],
   "source": [
    "from blocks.main_loop import MainLoop\n",
    "from blocks.extensions import FinishAfter, Printing\n",
    "main_loop = MainLoop(data_stream=data_stream, algorithm=algorithm,\n",
    "                     extensions=[monitor, FinishAfter(after_n_epochs=1), Printing()])\n",
    "main_loop.run()"
   ]
  },
  {
   "cell_type": "code",
   "execution_count": null,
   "metadata": {
    "collapsed": true
   },
   "outputs": [],
   "source": []
  }
 ],
 "metadata": {
  "kernelspec": {
   "display_name": "Python 2",
   "language": "python",
   "name": "python2"
  },
  "language_info": {
   "codemirror_mode": {
    "name": "ipython",
    "version": 2
   },
   "file_extension": ".py",
   "mimetype": "text/x-python",
   "name": "python",
   "nbconvert_exporter": "python",
   "pygments_lexer": "ipython2",
   "version": "2.7.10"
  }
 },
 "nbformat": 4,
 "nbformat_minor": 0
}
